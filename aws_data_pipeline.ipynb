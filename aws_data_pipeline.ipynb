{
 "cells": [
  {
   "cell_type": "markdown",
   "id": "689394b4",
   "metadata": {},
   "source": [
    "# **KoçDigital Sandbox Services** \n",
    "Data and AI Experiences Made Easy!"
   ]
  },
  {
   "cell_type": "markdown",
   "id": "6994ce3f",
   "metadata": {},
   "source": [
    "**Create a Data Pipeline with AWS Services**"
   ]
  },
  {
   "cell_type": "markdown",
   "id": "5b0848a1",
   "metadata": {},
   "source": [
    "![](./img/aws.png)"
   ]
  },
  {
   "cell_type": "markdown",
   "id": "59c72600",
   "metadata": {},
   "source": [
    "**Architecture Review**"
   ]
  },
  {
   "cell_type": "markdown",
   "id": "f13478fd",
   "metadata": {},
   "source": [
    "![](./img/aws_architecture.png)"
   ]
  },
  {
   "cell_type": "markdown",
   "id": "a9fd25b3",
   "metadata": {},
   "source": [
    "**Pipeline Components:**\n",
    "\n",
    "* Amazon S3\n",
    "* Glue\n",
    "* Sagemaker\n",
    "* Athena\n",
    "* Lambda\n",
    "* Step Functions\n",
    "* Cloudwatch"
   ]
  },
  {
   "cell_type": "markdown",
   "id": "3643213f",
   "metadata": {},
   "source": [
    "**Step-1: Explore Model Input**\n",
    "\n",
    "Check model input on S3\n",
    "\n",
    "s3://sagemaker-eu-central-1-160696311973/test/x_test_new.csv\n",
    "\n",
    "\n",
    "s3://sagemaker-eu-central-1-160696311973/train/y_train_new.csv"
   ]
  },
  {
   "cell_type": "markdown",
   "id": "ed24c941",
   "metadata": {},
   "source": [
    "**Step-2: Query model input using Athena**\n",
    "\n",
    "* Check sandbox-db database on Glue\n",
    "\n",
    "  Defining database : https://docs.aws.amazon.com/glue/latest/dg/define-database.html\n",
    "\n",
    "\n",
    "\n",
    "![](./img/aws_database.png)\n",
    "![](./img/aws_database2.png)\n",
    "\n",
    "\n",
    "\n",
    "\n",
    "\n",
    "\n",
    "\n",
    "\n",
    "* Execute \"sandbox-input-data\" crawler to create queryable table for input data \n",
    "\n",
    "  Adding crawler : https://docs.aws.amazon.com/glue/latest/ug/tutorial-add-crawler.html\n",
    "        \n",
    "![](./img/crawler.png)\n",
    "\n",
    "\n",
    "\n",
    "\n",
    "* Check created tables after crawler stopped\n",
    "\n",
    "![](./img/table.PNG)\n",
    "\n",
    "\n",
    "\n",
    "\n",
    "* Open Athena query your data using sql\n",
    "\n",
    "  Setting up Athena : https://docs.aws.amazon.com/athena/latest/ug/setting-up.html\n",
    "\n",
    "\n",
    "![](./img/athena.PNG)\n",
    "\n",
    "\n"
   ]
  },
  {
   "cell_type": "markdown",
   "id": "17be1733",
   "metadata": {},
   "source": [
    "**Step-2: Transform input data with Glue Jobs**\n",
    "\n",
    "* Examine the transformation code previously written on Glue : glue-sandbox-aws-exp\n",
    "\n",
    "  Adding jobs: https://docs.aws.amazon.com/glue/latest/dg/add-job.html\n",
    "  \n",
    "  \n",
    "* Start job wait for completion\n",
    "  \n",
    "* After job succeeded , check processed output on S3\n",
    "\n",
    "  s3://sandbox-aws-experience/processed_data/x_test_processed/\n",
    "  s3://sandbox-aws-experience/processed_data/x_train_processed/\n",
    "\n",
    "\n",
    "* Execute \"sandbox-processed-data\" crawler to create tables\n",
    "\n",
    "* Check processed tables and query them from Athena\n",
    "\n",
    "![](./img/athena2.PNG)\n"
   ]
  },
  {
   "cell_type": "markdown",
   "id": "47134ec2",
   "metadata": {},
   "source": [
    "**Step-3: Run Model on Sagemaker**\n",
    "\n",
    "* Sagemaker : https://docs.aws.amazon.com/sagemaker/index.html\n",
    "\n",
    "* Open Sagemaker and open \"sandbox-exp\" notebook which is in notebook instances\n",
    "\n",
    "![](./img/sagemaker1.PNG)\n",
    "\n",
    "\n",
    "* Open tf-eager.ipynb notebook\n",
    "\n",
    "![](./img/sagemaker2.PNG)\n",
    "\n",
    "* Follow steps in notebook\n",
    "\n",
    "  **TensorFlow Eager Execution with Amazon SageMaker Script Mode and Automatic Model Tuning**\n",
    "  \n",
    "* Execute \"sandbox-model-output\" crawler and check model output table on Athena \n",
    "\n",
    "![](./img/athena3.PNG)\n"
   ]
  },
  {
   "cell_type": "markdown",
   "id": "d2429e76",
   "metadata": {},
   "source": [
    "**Step-4: Orchestration with Step Function**\n",
    "\n",
    "* Step Function : https://docs.aws.amazon.com/step-functions/latest/dg/getting-started.html\n",
    "\n",
    "* Open step function service, create state machine by using workflow studio with the following steps\n",
    "\n",
    "  Crawler  - sandbox-input-data\n",
    "  \n",
    "  Glue Job - glue-sandbox-aws-exp\n",
    "  \n",
    "  Crawler  - sandbox-processed-data\n",
    "  \n",
    "  Sagemaker- Tensorflow Model\n",
    "  \n",
    "  Crawler  - sandbox-model-output\n",
    "  \n",
    "  ![](./img/step.PNG)\n"
   ]
  },
  {
   "cell_type": "markdown",
   "id": "6b87afcd",
   "metadata": {},
   "source": [
    "**Step-5: Schedule with Amazon EventBridge**\n",
    "\n",
    "* Create rule to schedule main state machine which is created in previous step\n",
    "  \n",
    "  Event Bridge : https://docs.aws.amazon.com/eventbridge/index.html\n",
    "\n",
    "\n",
    "  ![](./img/eventbridge.png)\n"
   ]
  }
 ],
 "metadata": {
  "kernelspec": {
   "display_name": "Python 3 (ipykernel)",
   "language": "python",
   "name": "python3"
  },
  "language_info": {
   "codemirror_mode": {
    "name": "ipython",
    "version": 3
   },
   "file_extension": ".py",
   "mimetype": "text/x-python",
   "name": "python",
   "nbconvert_exporter": "python",
   "pygments_lexer": "ipython3",
   "version": "3.9.7"
  }
 },
 "nbformat": 4,
 "nbformat_minor": 5
}
